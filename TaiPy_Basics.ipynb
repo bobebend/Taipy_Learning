{
 "cells": [
  {
   "cell_type": "code",
   "execution_count": 6,
   "metadata": {},
   "outputs": [
    {
     "name": "stdout",
     "output_type": "stream",
     "text": [
      "[2024-02-25 16:34:38][Taipy][ERROR] ConfigurationUpdateBlocked: The Core service should be stopped by running core.stop() before modifying the Configuration. For more information, please refer to: https://docs.taipy.io/en/latest/manuals/running_services/#running-core.\n"
     ]
    },
    {
     "ename": "ConfigurationUpdateBlocked",
     "evalue": "The Core service should be stopped by running core.stop() before modifying the Configuration. For more information, please refer to: https://docs.taipy.io/en/latest/manuals/running_services/#running-core.",
     "output_type": "error",
     "traceback": [
      "\u001b[1;31m---------------------------------------------------------------------------\u001b[0m",
      "\u001b[1;31mConfigurationUpdateBlocked\u001b[0m                Traceback (most recent call last)",
      "Cell \u001b[1;32mIn[6], line 8\u001b[0m\n\u001b[0;32m      4\u001b[0m \u001b[38;5;28;01mdef\u001b[39;00m \u001b[38;5;21mbuild_message\u001b[39m(name: \u001b[38;5;28mstr\u001b[39m):\n\u001b[0;32m      5\u001b[0m     \u001b[38;5;28;01mreturn\u001b[39;00m \u001b[38;5;124mf\u001b[39m\u001b[38;5;124m\"\u001b[39m\u001b[38;5;124mHello \u001b[39m\u001b[38;5;132;01m{\u001b[39;00mname\u001b[38;5;132;01m}\u001b[39;00m\u001b[38;5;124m!\u001b[39m\u001b[38;5;124m\"\u001b[39m\n\u001b[1;32m----> 8\u001b[0m input_name_data_node_cfg \u001b[38;5;241m=\u001b[39m \u001b[43mConfig\u001b[49m\u001b[38;5;241;43m.\u001b[39;49m\u001b[43mconfigure_data_node\u001b[49m\u001b[43m(\u001b[49m\u001b[38;5;28;43mid\u001b[39;49m\u001b[38;5;241;43m=\u001b[39;49m\u001b[38;5;124;43m\"\u001b[39;49m\u001b[38;5;124;43minput_name\u001b[39;49m\u001b[38;5;124;43m\"\u001b[39;49m\u001b[43m)\u001b[49m\n\u001b[0;32m      9\u001b[0m message_data_node_cfg \u001b[38;5;241m=\u001b[39m Config\u001b[38;5;241m.\u001b[39mconfigure_data_node(\u001b[38;5;28mid\u001b[39m\u001b[38;5;241m=\u001b[39m\u001b[38;5;124m\"\u001b[39m\u001b[38;5;124mmessage\u001b[39m\u001b[38;5;124m\"\u001b[39m)\n\u001b[0;32m     10\u001b[0m build_msg_task_cfg \u001b[38;5;241m=\u001b[39m Config\u001b[38;5;241m.\u001b[39mconfigure_task(\u001b[38;5;124m\"\u001b[39m\u001b[38;5;124mbuild_msg\u001b[39m\u001b[38;5;124m\"\u001b[39m, build_message, input_name_data_node_cfg, message_data_node_cfg)\n",
      "File \u001b[1;32mc:\\Users\\monke\\anaconda3\\lib\\site-packages\\taipy\\core\\config\\data_node_config.py:471\u001b[0m, in \u001b[0;36mDataNodeConfig._configure\u001b[1;34m(cls, id, storage_type, scope, validity_period, **properties)\u001b[0m\n\u001b[0;32m    468\u001b[0m \u001b[38;5;28;01mif\u001b[39;00m storage_type \u001b[38;5;129;01min\u001b[39;00m \u001b[38;5;28mcls\u001b[39m\u001b[38;5;241m.\u001b[39m_ALL_STORAGE_TYPES:\n\u001b[0;32m    469\u001b[0m     \u001b[38;5;28;01mreturn\u001b[39;00m configuration_map[storage_type](\u001b[38;5;28mid\u001b[39m\u001b[38;5;241m=\u001b[39m\u001b[38;5;28mid\u001b[39m, scope\u001b[38;5;241m=\u001b[39mscope, validity_period\u001b[38;5;241m=\u001b[39mvalidity_period, \u001b[38;5;241m*\u001b[39m\u001b[38;5;241m*\u001b[39mproperties)\n\u001b[1;32m--> 471\u001b[0m \u001b[38;5;28;01mreturn\u001b[39;00m \u001b[38;5;28mcls\u001b[39m\u001b[38;5;241m.\u001b[39m__configure(\u001b[38;5;28mid\u001b[39m, storage_type, scope, validity_period, \u001b[38;5;241m*\u001b[39m\u001b[38;5;241m*\u001b[39mproperties)\n",
      "File \u001b[1;32mc:\\Users\\monke\\anaconda3\\lib\\site-packages\\taipy\\core\\config\\data_node_config.py:1035\u001b[0m, in \u001b[0;36mDataNodeConfig.__configure\u001b[1;34m(id, storage_type, scope, validity_period, **properties)\u001b[0m\n\u001b[0;32m   1026\u001b[0m \u001b[38;5;129m@staticmethod\u001b[39m\n\u001b[0;32m   1027\u001b[0m \u001b[38;5;28;01mdef\u001b[39;00m \u001b[38;5;21m__configure\u001b[39m(\n\u001b[0;32m   1028\u001b[0m     \u001b[38;5;28mid\u001b[39m: \u001b[38;5;28mstr\u001b[39m,\n\u001b[1;32m   (...)\u001b[0m\n\u001b[0;32m   1032\u001b[0m     \u001b[38;5;241m*\u001b[39m\u001b[38;5;241m*\u001b[39mproperties,\n\u001b[0;32m   1033\u001b[0m ):\n\u001b[0;32m   1034\u001b[0m     section \u001b[38;5;241m=\u001b[39m DataNodeConfig(\u001b[38;5;28mid\u001b[39m, storage_type, scope, validity_period, \u001b[38;5;241m*\u001b[39m\u001b[38;5;241m*\u001b[39mproperties)\n\u001b[1;32m-> 1035\u001b[0m     \u001b[43mConfig\u001b[49m\u001b[38;5;241;43m.\u001b[39;49m\u001b[43m_register\u001b[49m\u001b[43m(\u001b[49m\u001b[43msection\u001b[49m\u001b[43m)\u001b[49m\n\u001b[0;32m   1036\u001b[0m     \u001b[38;5;28;01mreturn\u001b[39;00m Config\u001b[38;5;241m.\u001b[39msections[DataNodeConfig\u001b[38;5;241m.\u001b[39mname][\u001b[38;5;28mid\u001b[39m]\n",
      "File \u001b[1;32mc:\\Users\\monke\\anaconda3\\lib\\site-packages\\taipy\\config\\common\\_config_blocker.py:44\u001b[0m, in \u001b[0;36m_ConfigBlocker._check.<locals>.inner.<locals>._check_if_is_blocking\u001b[1;34m(*args, **kwargs)\u001b[0m\n\u001b[0;32m     38\u001b[0m     error_message \u001b[38;5;241m=\u001b[39m (\n\u001b[0;32m     39\u001b[0m         \u001b[38;5;124m\"\u001b[39m\u001b[38;5;124mThe Core service should be stopped by running core.stop() before\u001b[39m\u001b[38;5;124m\"\u001b[39m\n\u001b[0;32m     40\u001b[0m         \u001b[38;5;124m\"\u001b[39m\u001b[38;5;124m modifying the Configuration. For more information, please refer to:\u001b[39m\u001b[38;5;124m\"\u001b[39m\n\u001b[0;32m     41\u001b[0m         \u001b[38;5;124m\"\u001b[39m\u001b[38;5;124m https://docs.taipy.io/en/latest/manuals/running_services/#running-core.\u001b[39m\u001b[38;5;124m\"\u001b[39m\n\u001b[0;32m     42\u001b[0m     )\n\u001b[0;32m     43\u001b[0m     \u001b[38;5;28mcls\u001b[39m\u001b[38;5;241m.\u001b[39m__logger\u001b[38;5;241m.\u001b[39merror(\u001b[38;5;124m\"\u001b[39m\u001b[38;5;124mConfigurationUpdateBlocked: \u001b[39m\u001b[38;5;124m\"\u001b[39m \u001b[38;5;241m+\u001b[39m error_message)\n\u001b[1;32m---> 44\u001b[0m     \u001b[38;5;28;01mraise\u001b[39;00m ConfigurationUpdateBlocked(error_message)\n\u001b[0;32m     46\u001b[0m \u001b[38;5;28;01mreturn\u001b[39;00m f(\u001b[38;5;241m*\u001b[39margs, \u001b[38;5;241m*\u001b[39m\u001b[38;5;241m*\u001b[39mkwargs)\n",
      "\u001b[1;31mConfigurationUpdateBlocked\u001b[0m: The Core service should be stopped by running core.stop() before modifying the Configuration. For more information, please refer to: https://docs.taipy.io/en/latest/manuals/running_services/#running-core."
     ]
    },
    {
     "name": "stderr",
     "output_type": "stream",
     "text": [
      "UserWarning: libuv only supports millisecond timer resolution; all times less will be set to 1 ms\n"
     ]
    }
   ],
   "source": [
    "from taipy import Config\n",
    "\n",
    "\n",
    "def build_message(name: str):\n",
    "    return f\"Hello {name}!\"\n",
    "\n",
    "\n",
    "input_name_data_node_cfg = Config.configure_data_node(id=\"input_name\")\n",
    "message_data_node_cfg = Config.configure_data_node(id=\"message\")\n",
    "build_msg_task_cfg = Config.configure_task(\"build_msg\", build_message, input_name_data_node_cfg, message_data_node_cfg)\n",
    "scenario_cfg = Config.configure_scenario(\"scenario\", task_configs=[build_msg_task_cfg])"
   ]
  },
  {
   "cell_type": "code",
   "execution_count": 2,
   "metadata": {},
   "outputs": [
    {
     "name": "stdout",
     "output_type": "stream",
     "text": [
      "[2024-02-25 16:02:27][Taipy][INFO] Development mode: Clean all entities of version f1f41ca2-7ff2-43f6-a168-7956a5bbf5eb\n"
     ]
    }
   ],
   "source": [
    "from taipy import Core\n",
    "\n",
    "if __name__ == \"__main__\":\n",
    "    Core().run()"
   ]
  },
  {
   "cell_type": "code",
   "execution_count": 3,
   "metadata": {},
   "outputs": [
    {
     "name": "stdout",
     "output_type": "stream",
     "text": [
      "[2024-02-25 16:02:34][Taipy][INFO] job JOB_build_msg_bd480ad0-04da-4216-b5ec-8d2ecbe62643 is completed.\n",
      "Hello Taipy!\n"
     ]
    }
   ],
   "source": [
    "import taipy as tp\n",
    "\n",
    "hello_scenario = tp.create_scenario(scenario_cfg)\n",
    "hello_scenario.input_name.write(\"Taipy\")\n",
    "hello_scenario.submit()\n",
    "print(hello_scenario.message.read())"
   ]
  },
  {
   "cell_type": "code",
   "execution_count": 4,
   "metadata": {},
   "outputs": [],
   "source": [
    "def submit_scenario(state):\n",
    "    scenario.input_name.write(state.input_name)\n",
    "    scenario.submit()\n",
    "    state.message = scenario.message.read()"
   ]
  },
  {
   "cell_type": "markdown",
   "metadata": {},
   "source": [
    "# This is a new section for the GUI"
   ]
  },
  {
   "cell_type": "code",
   "execution_count": 5,
   "metadata": {},
   "outputs": [
    {
     "name": "stdout",
     "output_type": "stream",
     "text": [
      "[2024-02-25 16:07:59][Taipy][INFO] Development mode: Clean all entities of version f1f41ca2-7ff2-43f6-a168-7956a5bbf5eb\n",
      "[2024-02-25 16:08:00][Taipy][INFO] Running in 'single_client' mode in notebook environment\n",
      "[2024-02-25 16:08:05][Taipy][INFO]  * Server starting on http://127.0.0.1:5000\n"
     ]
    },
    {
     "name": "stderr",
     "output_type": "stream",
     "text": [
      "UserWarning: libuv only supports millisecond timer resolution; all times less will be set to 1 ms\n"
     ]
    },
    {
     "name": "stdout",
     "output_type": "stream",
     "text": [
      "[2024-02-25 16:08:20][Taipy][INFO] job JOB_build_msg_bb509aad-ce04-41c7-9dcd-6acd26e33637 is completed.\n",
      "[2024-02-25 16:12:46][Taipy][INFO] job JOB_build_msg_9ee9c928-be13-4a31-a5b0-d8cf7f8830fe is completed.\n",
      "[2024-02-25 16:12:54][Taipy][INFO] job JOB_build_msg_1eac590d-0c14-4076-93d6-b4045aa88466 is completed.\n",
      "[2024-02-25 16:13:11][Taipy][INFO] job JOB_build_msg_20dc290c-721d-416b-a501-a424a5b7e765 is completed.\n",
      "[2024-02-25 16:20:02][Taipy][INFO] job JOB_build_msg_2257c55e-79df-4563-924a-f0774193a1d8 is completed.\n"
     ]
    }
   ],
   "source": [
    "import taipy as tp\n",
    "\n",
    "# Previous configuration of scenario\n",
    "...\n",
    "\n",
    "page = \"\"\"\n",
    "Name: <|{input_name}|input|>\n",
    "<|submit|button|on_action=submit_scenario|>\n",
    "\n",
    "Message: <|{message}|text|>\n",
    "\"\"\"\n",
    "\n",
    "input_name = \"Taipy\"\n",
    "message = None\n",
    "\n",
    "\n",
    "def submit_scenario(state):\n",
    "    state.scenario.input_name.write(state.input_name)\n",
    "    state.scenario.submit(wait=True)\n",
    "    state.message = scenario.message.read()\n",
    "\n",
    "\n",
    "if __name__ == \"__main__\":\n",
    "    tp.Core().run()\n",
    "    scenario = tp.create_scenario(scenario_cfg)\n",
    "    tp.Gui(page).run()"
   ]
  }
 ],
 "metadata": {
  "kernelspec": {
   "display_name": "Python 3 (ipykernel)",
   "language": "python",
   "name": "python3"
  },
  "language_info": {
   "codemirror_mode": {
    "name": "ipython",
    "version": 3
   },
   "file_extension": ".py",
   "mimetype": "text/x-python",
   "name": "python",
   "nbconvert_exporter": "python",
   "pygments_lexer": "ipython3",
   "version": "3.10.9"
  }
 },
 "nbformat": 4,
 "nbformat_minor": 4
}
