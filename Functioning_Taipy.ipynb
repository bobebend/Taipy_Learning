{
  "metadata": {
    "kernelspec": {
      "name": "python",
      "display_name": "Python (Pyodide)",
      "language": "python"
    },
    "language_info": {
      "codemirror_mode": {
        "name": "python",
        "version": 3
      },
      "file_extension": ".py",
      "mimetype": "text/x-python",
      "name": "python",
      "nbconvert_exporter": "python",
      "pygments_lexer": "ipython3",
      "version": "3.8"
    }
  },
  "nbformat_minor": 4,
  "nbformat": 4,
  "cells": [
    {
      "cell_type": "markdown",
      "source": "# Taipy working copy with Dataframe and bar chart",
      "metadata": {}
    },
    {
      "cell_type": "code",
      "source": "from taipy import Gui\nfrom taipy.gui import Gui, notify\nimport pandas as pd",
      "metadata": {
        "trusted": true
      },
      "outputs": [],
      "execution_count": null
    },
    {
      "cell_type": "code",
      "source": "\ntext = \"First Button\"\n\npage = \"\"\"\n<|toggle|theme|>\n\n# Getting started with Bob's Taipy Gui\n\nMy text: <|{text}|>\n<|{text}>|input|>\n\n<|{dataframe}|table|>\n\n<|{dataframe}|chart|type=bar|x=Job title|y=Salary in usd|color[x]=blue|>\n\n\"\"\"\n\ndataframe = pd.read.csv(\"copy path from csv\")\n\ndataframe.columns = dataframe.columns.str.replace('_', ' ').str.capitalize()\n\nGui(page).run()\n",
      "metadata": {
        "trusted": true
      },
      "outputs": [],
      "execution_count": null
    },
    {
      "cell_type": "code",
      "source": "",
      "metadata": {
        "trusted": true
      },
      "outputs": [],
      "execution_count": null
    }
  ]
}